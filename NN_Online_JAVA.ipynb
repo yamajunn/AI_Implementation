{
 "cells": [
  {
   "cell_type": "code",
   "execution_count": 8,
   "metadata": {
    "vscode": {
     "languageId": "java"
    }
   },
   "outputs": [
    {
     "name": "stdout",
     "output_type": "stream",
     "text": [
      "2.7182817983473577\n"
     ]
    }
   ],
   "source": [
    "double napiersLogarithm(double x) {\n",
    "    return Math.pow((1 + 1 / x), x);\n",
    "}\n",
    "double napierNumber = napiersLogarithm(100000000.0);\n",
    "System.out.println(napierNumber);"
   ]
  },
  {
   "cell_type": "code",
   "execution_count": 9,
   "metadata": {
    "vscode": {
     "languageId": "java"
    }
   },
   "outputs": [
    {
     "name": "stdout",
     "output_type": "stream",
     "text": [
      "2.3025850929940455\n"
     ]
    }
   ],
   "source": [
    "double ln(double x) {\n",
    "    int max_iter=20;\n",
    "    double tol=1e-12;\n",
    "    \n",
    "    if (x <= 0) { throw new IllegalArgumentException(\"x must be positive\"); }\n",
    "    double k = 0;\n",
    "    while (x > 2) {\n",
    "        x /= 2;\n",
    "        k += 1;\n",
    "    }\n",
    "    while (x < 0.5) {\n",
    "        x *= 2;\n",
    "        k -= 1;\n",
    "    }\n",
    "    double y = x - 1;  // ln(1) = 0 付近の値から開始\n",
    "    for (int i=0; i<max_iter; i++) {\n",
    "        double prev_y = y;\n",
    "        y -= (Math.pow(2.718281828459045, y) - x) / (Math.pow(2.718281828459045, y));  // f(y) / f'(y)\n",
    "        if (Math.abs(y - prev_y) < tol) { \n",
    "            break;\n",
    "        }\n",
    "    }\n",
    "    return y + k * 0.6931471805599453;  // ln(2) ≈ 0.693147\n",
    "}\n",
    "System.out.println(ln(10.0));"
   ]
  },
  {
   "cell_type": "code",
   "execution_count": null,
   "metadata": {
    "vscode": {
     "languageId": "java"
    }
   },
   "outputs": [],
   "source": [
    "double sqrt(double x) {\n",
    "    \n",
    "}"
   ]
  }
 ],
 "metadata": {
  "kernelspec": {
   "display_name": "Java",
   "language": "java",
   "name": "java"
  },
  "language_info": {
   "codemirror_mode": "java",
   "file_extension": ".jshell",
   "mimetype": "text/x-java-source",
   "name": "Java",
   "pygments_lexer": "java",
   "version": "17.0.13+11"
  }
 },
 "nbformat": 4,
 "nbformat_minor": 2
}
