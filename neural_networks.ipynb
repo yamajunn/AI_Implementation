{
 "cells": [
  {
   "cell_type": "markdown",
   "metadata": {},
   "source": [
    "Randomモジュールをインポート"
   ]
  },
  {
   "cell_type": "code",
   "execution_count": 212,
   "metadata": {},
   "outputs": [],
   "source": [
    "import random"
   ]
  },
  {
   "cell_type": "markdown",
   "metadata": {},
   "source": [
    "### ネイピア数\n",
    "$$e = \\lim_{{x \\to \\infty}} \\left(1 + \\frac{1}{x}\\right)^x$$"
   ]
  },
  {
   "cell_type": "code",
   "execution_count": 213,
   "metadata": {},
   "outputs": [],
   "source": [
    "def napiers_logarithm(x):\n",
    "    return (1 + 1 / x) ** x\n",
    "napier_number = napiers_logarithm(100000000)  # e"
   ]
  },
  {
   "cell_type": "markdown",
   "metadata": {},
   "source": [
    "### シグモイド関数\n",
    "$$Sigmoid(x)=\\frac{1}{1+Napiers(1000000000)^{-x}}$$"
   ]
  },
  {
   "cell_type": "code",
   "execution_count": 214,
   "metadata": {},
   "outputs": [],
   "source": [
    "def sigmoid(x):\n",
    "    return 1 / (1 + napier_number ** -x)"
   ]
  },
  {
   "cell_type": "markdown",
   "metadata": {},
   "source": [
    "### シグモイド関数の微分\n",
    "$$Sigmoid'(x)=Sigmoid(x)(1 - Sigmoid(x))$$"
   ]
  },
  {
   "cell_type": "code",
   "execution_count": 215,
   "metadata": {},
   "outputs": [],
   "source": [
    "def sigmoid_derivative(x):\n",
    "    return sigmoid(x) * (1 - sigmoid(x))"
   ]
  },
  {
   "cell_type": "markdown",
   "metadata": {},
   "source": [
    "### ReLU関数\n",
    "$$ReLU(x) =\n",
    "        \\begin{cases}\n",
    "            x \\quad x \\geqq 0 \\\\\n",
    "            0 \\quad x < 0 \\\\\n",
    "        \\end{cases}\n",
    "$$"
   ]
  },
  {
   "cell_type": "code",
   "execution_count": 216,
   "metadata": {},
   "outputs": [],
   "source": [
    "def relu(x):\n",
    "    return max(0, x)"
   ]
  },
  {
   "cell_type": "markdown",
   "metadata": {},
   "source": [
    "### ReLU関数の微分\n",
    "$$ReLU'(x) =\n",
    "        \\begin{cases}\n",
    "            1 \\quad x > 0 \\\\\n",
    "            0 \\quad x \\leqq 0 \\\\\n",
    "        \\end{cases}\n",
    "$$"
   ]
  },
  {
   "cell_type": "code",
   "execution_count": 217,
   "metadata": {},
   "outputs": [],
   "source": [
    "def relu_derivative(x):\n",
    "    return 1 if x > 0 else 0"
   ]
  },
  {
   "cell_type": "markdown",
   "metadata": {},
   "source": [
    "### 自然対数\n",
    "$$ln(x) = 2 \\sum_{n=1,3,5,\\dots}^{\\infty} \\frac{(z^n)}{n}, \\quad z = \\frac{x-1}{x+1}$$"
   ]
  },
  {
   "cell_type": "code",
   "execution_count": 218,
   "metadata": {},
   "outputs": [],
   "source": [
    "def ln(x, n_terms=100):\n",
    "    if x <= 0: raise ValueError(\"x must be positive\")\n",
    "    z = (x - 1) / (x + 1)\n",
    "    result = 0\n",
    "    for n in range(1, n_terms + 1, 2):\n",
    "        result += (z ** n) / n\n",
    "    return 2 * result"
   ]
  },
  {
   "cell_type": "markdown",
   "metadata": {},
   "source": [
    "### クロスエントロピー損失\n",
    "$$L(y_{\\text{true}}, y_{\\text{pred}}) = - \\sum_{i=1}^{n} y_{\\text{true}_i} \\cdot \\ln(y_{\\text{pred}_i} + \\epsilon)$$"
   ]
  },
  {
   "cell_type": "code",
   "execution_count": 219,
   "metadata": {},
   "outputs": [],
   "source": [
    "def cross_entropy_loss(y_true, y_pred):\n",
    "    if len(y_true) != len(y_pred): raise ValueError(\"Input lists must have the same length.\")\n",
    "    return -sum([t * ln(p + 1e-9) for t, p in zip(y_true, y_pred)])"
   ]
  },
  {
   "cell_type": "markdown",
   "metadata": {},
   "source": [
    "### ニューラルネットワークを初期化\n",
    "例:&emsp;入力層 -> 2,&emsp;隠れ層 -> [3, 3],&emsp;出力層 -> 1\n",
    "#### 重み\n",
    "$$n_{n}={2, 3, 3, 1}$$\n",
    "$$ random \\in [-1, 1] $$\n",
    "$$[[[random]*n_{1}]*n_{2}, [[random]*n_{2}]*n_{3}, [[random]*n_{3}]*n_{4}]$$\n",
    "#### バイアス\n",
    "$$n_{n}={3, 3, 1}$$\n",
    "$$ random \\in [-1, 1] $$\n",
    "$$[[random]*n_{1},[random]*n_{2},[random]*n_{3}]$$\n",
    "\n",
    "※ [n]*5 -> [n, n, n, n, n]"
   ]
  },
  {
   "cell_type": "code",
   "execution_count": 220,
   "metadata": {},
   "outputs": [],
   "source": [
    "def initialize_weights(layer_sizes):  # initialize weights and biases\n",
    "    weights, biases = [], []\n",
    "    for i in range(len(layer_sizes) - 1):\n",
    "        W = [[random.uniform(-1, 1) for _ in range(layer_sizes[i])] for _ in range(layer_sizes[i+1])]  # [ {random_num *layer_sizes[i]} *layer_sizes[i+1] ]\n",
    "        b = [random.uniform(-1, 1) for _ in range(layer_sizes[i+1])]  # [ random_num *layer_sizes[i+1] ]\n",
    "        weights.append(W)\n",
    "        biases.append(b)\n",
    "    return weights, biases"
   ]
  },
  {
   "cell_type": "code",
   "execution_count": 221,
   "metadata": {},
   "outputs": [],
   "source": [
    "def forward_propagation(inputs, weights, biases):  # forward propagation\n",
    "    activations = [inputs]\n",
    "    for W, b in zip(weights, biases):\n",
    "        z = [\n",
    "            sum([activations[-1][i] * W[j][i] for i in range(len(activations[-1]))]) + b[j]\n",
    "            for j in range(len(b))\n",
    "        ]\n",
    "        activations.append([relu(z_i) for z_i in z])\n",
    "    return activations"
   ]
  },
  {
   "cell_type": "code",
   "execution_count": 222,
   "metadata": {},
   "outputs": [],
   "source": [
    "def backward_propagation(activations, y_true, weights, biases, learning_rate):  # backward propagation\n",
    "    output_layer = activations[-1]\n",
    "    errors = [\n",
    "        (output_layer[i] - y_true[i]) * sigmoid_derivative(output_layer[i])\n",
    "        for i in range(len(y_true))\n",
    "    ]\n",
    "    deltas = [errors]\n",
    "    # Backpropagating the hidden layer error\n",
    "    for l in range(len(weights)-1, 0, -1):\n",
    "        hidden_errors = [\n",
    "            sum([deltas[0][k] * weights[l][k][j] for k in range(len(deltas[0]))]) * relu_derivative(activations[l][j])\n",
    "            for j in range(len(activations[l]))\n",
    "        ]\n",
    "        deltas.insert(0, hidden_errors)\n",
    "    # Update the weights and biases\n",
    "    for l in range(len(weights)):\n",
    "        for i in range(len(weights[l])):\n",
    "            for j in range(len(weights[l][i])):\n",
    "                weights[l][i][j] -= learning_rate * deltas[l][i] * activations[l][j]\n",
    "            biases[l][i] -= learning_rate * deltas[l][i]\n",
    "\n",
    "    return weights, biases"
   ]
  },
  {
   "cell_type": "code",
   "execution_count": 223,
   "metadata": {},
   "outputs": [],
   "source": [
    "def train(X, y, layer_sizes, epochs, learning_rate):\n",
    "    weights, biases = initialize_weights(layer_sizes)\n",
    "\n",
    "    for epoch in range(epochs):\n",
    "        total_loss = 0\n",
    "        for i in range(len(X)):\n",
    "            activations = forward_propagation(X[i], weights, biases)\n",
    "            total_loss += cross_entropy_loss(y[i], activations[-1])\n",
    "            weights, biases = backward_propagation(activations, y[i], weights, biases, learning_rate)\n",
    "        \n",
    "        m = (epoch + (epochs // 20) - 1) // (epochs // 20)\n",
    "        print(f\"\\rEpoch {epoch+1}/{epochs}, Loss: {total_loss/len(X)}, [{'+'*m}{' '*(20-m)}]{' '*10}\",end=\"\")\n",
    "    print(\"\\nComplete\")\n",
    "    return weights, biases"
   ]
  },
  {
   "cell_type": "code",
   "execution_count": 231,
   "metadata": {},
   "outputs": [
    {
     "name": "stdout",
     "output_type": "stream",
     "text": [
      "Epoch 500/500, Loss: 0.005309353010232144, [++++++++++++++++++++]           \n",
      "Complete\n",
      "Inputs: [0, 0], Output: [0] Predict: [0], probability: 0.02\n",
      "Inputs: [0, 1], Output: [1] Predict: [1], probability: 0.981\n",
      "Inputs: [1, 0], Output: [1] Predict: [1], probability: 0.999\n",
      "Inputs: [1, 1], Output: [0] Predict: [0], probability: 0.006\n"
     ]
    }
   ],
   "source": [
    "# DataSet for XOR\n",
    "X = [[0, 0], [0, 1], [1, 0], [1, 1]]  # Input\n",
    "y = [[0], [1], [1], [0]]  # Output\n",
    "\n",
    "epochs = 500  # Number of epochs\n",
    "learning_rate = 0.01  # Learning rate\n",
    "layer_sizes = [2, 8, 16, 8, 1]  # 2 input -> 8 hidden -> 16 hidden -> 8 hidden -> 1 output\n",
    "\n",
    "weights, biases = train(X, y, layer_sizes, epochs, learning_rate)\n",
    "\n",
    "for i in range(len(X)):  # Prediction\n",
    "    activations = forward_propagation(X[i], weights, biases)\n",
    "    output = activations[-1]\n",
    "    binary_output = [1 if o >= 0.5 else 0 for o in output]\n",
    "    print(f\"Inputs: {X[i]}, Output: {y[i]} Predict: {binary_output}, probability: {round(output[0], 3)}\")"
   ]
  }
 ],
 "metadata": {
  "kernelspec": {
   "display_name": "Python 3",
   "language": "python",
   "name": "python3"
  },
  "language_info": {
   "codemirror_mode": {
    "name": "ipython",
    "version": 3
   },
   "file_extension": ".py",
   "mimetype": "text/x-python",
   "name": "python",
   "nbconvert_exporter": "python",
   "pygments_lexer": "ipython3",
   "version": "3.12.5"
  }
 },
 "nbformat": 4,
 "nbformat_minor": 2
}
