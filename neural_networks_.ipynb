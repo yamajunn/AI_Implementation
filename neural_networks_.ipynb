{
 "cells": [
  {
   "cell_type": "markdown",
   "metadata": {},
   "source": [
    "### Randomモジュールをインポート"
   ]
  },
  {
   "cell_type": "code",
   "execution_count": 171,
   "metadata": {},
   "outputs": [],
   "source": [
    "import random"
   ]
  },
  {
   "cell_type": "markdown",
   "metadata": {},
   "source": [
    "### ネイピア数\n",
    "$$e = (1+1/1000000000)^{1000000000}$$"
   ]
  },
  {
   "cell_type": "code",
   "execution_count": 172,
   "metadata": {},
   "outputs": [],
   "source": [
    "def napiers_logarithm(x):\n",
    "    return (1 + 1 / x) ** x\n",
    "napier_number = napiers_logarithm(1000000000)  # e"
   ]
  },
  {
   "cell_type": "markdown",
   "metadata": {},
   "source": [
    "### シグモイド関数\n",
    "$$Sigmoid(x)=\\frac{1}{1+Napiers(1000000000)^{-x}}$$"
   ]
  },
  {
   "cell_type": "code",
   "execution_count": 173,
   "metadata": {},
   "outputs": [],
   "source": [
    "def sigmoid(x):\n",
    "    return 1 / (1 + napier_number ** -x)"
   ]
  },
  {
   "cell_type": "markdown",
   "metadata": {},
   "source": [
    "### シグモイド関数の微分\n",
    "$$Sigmoid'(x)=Sigmoid(x)(1 - Sigmoid(x))$$"
   ]
  },
  {
   "cell_type": "code",
   "execution_count": 174,
   "metadata": {},
   "outputs": [],
   "source": [
    "def sigmoid_derivative(x):\n",
    "    return sigmoid(x) * (1 - sigmoid(x))"
   ]
  },
  {
   "cell_type": "markdown",
   "metadata": {},
   "source": [
    "### ReLU関数\n",
    "$$ReLU(x) =\n",
    "        \\begin{cases}\n",
    "            x \\quad x \\geqq 0 \\\\\n",
    "            0 \\quad x < 0 \\\\\n",
    "        \\end{cases}\n",
    "$$"
   ]
  },
  {
   "cell_type": "code",
   "execution_count": 175,
   "metadata": {},
   "outputs": [],
   "source": [
    "def relu(x):\n",
    "    return max(0, x)"
   ]
  },
  {
   "cell_type": "markdown",
   "metadata": {},
   "source": [
    "### ReLU関数の微分\n",
    "$$ReLU'(x) =\n",
    "        \\begin{cases}\n",
    "            1 \\quad x > 0 \\\\\n",
    "            0 \\quad x \\leqq 0 \\\\\n",
    "        \\end{cases}\n",
    "$$"
   ]
  },
  {
   "cell_type": "code",
   "execution_count": 176,
   "metadata": {},
   "outputs": [],
   "source": [
    "def relu_derivative(x):\n",
    "    return 1 if x > 0 else 0"
   ]
  },
  {
   "cell_type": "markdown",
   "metadata": {},
   "source": [
    "### 自然対数\n",
    "$$ln(x) = 2 \\sum_{n=1,3,5,\\dots}^{\\infty} \\frac{(z^n)}{n}, \\quad z = \\frac{x-1}{x+1}$$"
   ]
  },
  {
   "cell_type": "code",
   "execution_count": 177,
   "metadata": {},
   "outputs": [],
   "source": [
    "def ln(x, n_terms=100):\n",
    "    if x <= 0: raise ValueError(\"x must be positive\")\n",
    "    return (x - 1) / (x + 1) * sum([((x - 1) / (x + 1) ** n) / n for n in range(1, n_terms + 1, 2)])"
   ]
  },
  {
   "cell_type": "markdown",
   "metadata": {},
   "source": [
    "### クロスエントロピー損失\n",
    "$$L(y_{\\text{true}}, y_{\\text{pred}}) = - \\sum_{i=1}^{n} y_{\\text{true}_i} \\cdot \\ln(y_{\\text{pred}_i} + \\epsilon)$$"
   ]
  },
  {
   "cell_type": "code",
   "execution_count": 178,
   "metadata": {},
   "outputs": [],
   "source": [
    "def cross_entropy_loss(y_true, y_pred):\n",
    "    if len(y_true) != len(y_pred): raise ValueError(\"Input lists must have the same length.\")\n",
    "    return -sum([t * ln(p + 1e-9) for t, p in zip(y_true, y_pred)])"
   ]
  },
  {
   "cell_type": "markdown",
   "metadata": {},
   "source": [
    "### ニューラルネットワークを初期化"
   ]
  },
  {
   "cell_type": "code",
   "execution_count": 179,
   "metadata": {},
   "outputs": [],
   "source": [
    "def initialize_weights(layer_sizes):  # initialize weights and biases\n",
    "    weights, biases = [], []\n",
    "    for i in range(len(layer_sizes) - 1):\n",
    "        weights.append([[random.uniform(-1, 1) for _ in range(layer_sizes[i])] for _ in range(layer_sizes[i+1])])  # [ {random_num *layer_sizes[i]} *layer_sizes[i+1] ]\n",
    "        biases.append([random.uniform(-1, 1) for _ in range(layer_sizes[i+1])])  # [ random_num *layer_sizes[i+1] ]\n",
    "    return weights, biases"
   ]
  },
  {
   "cell_type": "markdown",
   "metadata": {},
   "source": [
    "### 順伝播処理\n",
    "$$a^{(l+1)} = ReLU(W^{(l)} a^{(l)} + b^{(l)})$$"
   ]
  },
  {
   "cell_type": "code",
   "execution_count": 180,
   "metadata": {},
   "outputs": [],
   "source": [
    "def forward_propagation(inputs, weights, biases):  # forward propagation\n",
    "    activations = [inputs]\n",
    "    for l, (W, b) in enumerate(zip(weights, biases)):\n",
    "        if l == len(weights) - 1:  # output layer\n",
    "            activations.append([\n",
    "                sigmoid(sum([activations[-1][i] * W[j][i] for i in range(len(activations[-1]))]) + b[j])\n",
    "                for j in range(len(b))\n",
    "            ])\n",
    "        else:  # hidden layers\n",
    "            activations.append([\n",
    "                relu(sum([activations[-1][i] * W[j][i] for i in range(len(activations[-1]))]) + b[j])\n",
    "                for j in range(len(b))\n",
    "            ])\n",
    "    return activations"
   ]
  },
  {
   "cell_type": "markdown",
   "metadata": {},
   "source": [
    "### 逆伝播処理\n",
    "$$\n",
    "\\delta^{(L)} = (a^{(L)} - y) \\odot \\sigma'(z^{(L)})\n",
    "$$\n",
    "$$\n",
    "\\delta^{(l)} = ((W^{(l+1)})^T \\delta^{(l+1)}) \\odot ReLU'(z^{(l)})\n",
    "$$\n",
    "$$\n",
    "W^{(l)} = W^{(l)} - \\eta \\delta^{(l)} (a^{(l-1)})^T\n",
    "$$\n",
    "$$\n",
    "b^{(l)} = b^{(l)} - \\eta \\delta^{(l)}\n",
    "$$"
   ]
  },
  {
   "cell_type": "code",
   "execution_count": 181,
   "metadata": {},
   "outputs": [],
   "source": [
    "def backward_propagation(activations, y_true, weights, biases, learning_rate):  # backward propagation\n",
    "    output_layer = activations[-1]\n",
    "    deltas = [[\n",
    "        (output_layer[i] - y_true[i]) * sigmoid_derivative(output_layer[i])\n",
    "        for i in range(len(y_true))\n",
    "    ]]\n",
    "    # Backpropagating the hidden layer error\n",
    "    for l in range(len(weights)-1, 0, -1):\n",
    "        deltas.insert(0, [\n",
    "            sum([deltas[0][k] * weights[l][k][j] for k in range(len(deltas[0]))]) * relu_derivative(activations[l][j])\n",
    "            for j in range(len(activations[l]))\n",
    "        ])\n",
    "    # Update the weights and biases\n",
    "    for l in range(len(weights)):\n",
    "        for i in range(len(weights[l])):\n",
    "            for j in range(len(weights[l][i])):\n",
    "                weights[l][i][j] -= learning_rate * deltas[l][i] * activations[l][j]\n",
    "            biases[l][i] -= learning_rate * deltas[l][i]\n",
    "\n",
    "    return weights, biases"
   ]
  },
  {
   "cell_type": "markdown",
   "metadata": {},
   "source": [
    "### ニューラルネットワークを学習"
   ]
  },
  {
   "cell_type": "code",
   "execution_count": 182,
   "metadata": {},
   "outputs": [],
   "source": [
    "def train(X, y, layer_sizes, epochs, learning_rate):\n",
    "    weights, biases = initialize_weights(layer_sizes)\n",
    "    weights = [[[0.1, 0.1], [0.1, 0.1]], [[0.1, 0.1]]]\n",
    "    biases = [[0.1, 0.1], [0.1]]\n",
    "    print(weights, biases)\n",
    "    weights_list = []\n",
    "    for epoch in range(epochs):\n",
    "        total_loss = 0\n",
    "        for i in range(len(X)):\n",
    "            activations = forward_propagation(X[i], weights, biases)\n",
    "            total_loss += cross_entropy_loss(y[i], activations[-1])\n",
    "            weights, biases = backward_propagation(activations, y[i], weights, biases, learning_rate)\n",
    "            weights_list.append(weights)\n",
    "        \n",
    "        m = (epoch + (epochs // 20) - 1) // (epochs // 20)\n",
    "        print(f\"\\rEpoch {epoch+1}/{epochs}, Loss: {total_loss/len(X)}, [{'+'*m}{' '*(20-m)}]{' '*10}\",end=\"\")\n",
    "    print(\"\\nComplete\")\n",
    "    return weights, biases, weights_list"
   ]
  },
  {
   "cell_type": "markdown",
   "metadata": {},
   "source": [
    "### パラメーターの設定および関数呼び出し"
   ]
  },
  {
   "cell_type": "code",
   "execution_count": 183,
   "metadata": {},
   "outputs": [
    {
     "name": "stdout",
     "output_type": "stream",
     "text": [
      "[[[0.1, 0.1], [0.1, 0.1]], [[0.1, 0.1]]] [[0.1, 0.1], [0.1]]\n",
      "Epoch 30000/30000, Loss: -0.08176462109137819, [++++++++++++++++++++]          \n",
      "Complete\n",
      "Inputs: [0, 0], Output: [0] Predict: [0], probability: 0.333\n",
      "Inputs: [0, 1], Output: [1] Predict: [0], probability: 0.333\n",
      "Inputs: [1, 0], Output: [1] Predict: [1], probability: 1.0\n",
      "Inputs: [1, 1], Output: [0] Predict: [0], probability: 0.333\n"
     ]
    }
   ],
   "source": [
    "# DataSet for XOR\n",
    "X = [[0, 0], [0, 1], [1, 0], [1, 1]]  # Input\n",
    "y = [[0], [1], [1], [0]]  # Output\n",
    "\n",
    "epochs = 30000  # Number of epochs\n",
    "learning_rate = 0.1  # Learning rate\n",
    "layer_sizes = [2, 2, 1]  # 2 input -> 16 hidden -> 1 output\n",
    "\n",
    "weights, biases, weights_list = train(X, y, layer_sizes, epochs, learning_rate)\n",
    "\n",
    "for i in range(len(X)):  # Prediction\n",
    "    activations = forward_propagation(X[i], weights, biases)\n",
    "    output = activations[-1]\n",
    "    binary_output = [1 if o >= 0.5 else 0 for o in output]\n",
    "    print(f\"Inputs: {X[i]}, Output: {y[i]} Predict: {binary_output}, probability: {round(output[0], 3)}\")"
   ]
  },
  {
   "cell_type": "markdown",
   "metadata": {},
   "source": [
    "weights = [[[0.1, 0.1], [0.1, 0.1]], [[0.1, 0.1]]]\n",
    "biases = [[0.1, 0.1], [0.1]]\n",
    "2 input -> 16 hidden -> 1 output\n",
    "relu(sum(a0 * w0 + a0 * w1))\n",
    "relu(sum(a1 * w0 + a1 * w1))"
   ]
  }
 ],
 "metadata": {
  "kernelspec": {
   "display_name": "Python 3",
   "language": "python",
   "name": "python3"
  },
  "language_info": {
   "codemirror_mode": {
    "name": "ipython",
    "version": 3
   },
   "file_extension": ".py",
   "mimetype": "text/x-python",
   "name": "python",
   "nbconvert_exporter": "python",
   "pygments_lexer": "ipython3",
   "version": "3.12.5"
  }
 },
 "nbformat": 4,
 "nbformat_minor": 2
}
